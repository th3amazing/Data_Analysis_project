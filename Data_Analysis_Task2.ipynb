{
 "cells": [
  {
   "cell_type": "code",
   "execution_count": 1,
   "id": "868c9ffe",
   "metadata": {},
   "outputs": [],
   "source": [
    "import pandas as pd\n",
    "import numpy as np\n",
    "from sklearn.impute import SimpleImputer\n",
    "from sklearn.preprocessing import StandardScaler"
   ]
  },
  {
   "cell_type": "code",
   "execution_count": 2,
   "id": "5ef7c5e8",
   "metadata": {},
   "outputs": [],
   "source": [
    "# Step 1: Data Acquisition\n",
    "df = pd.read_csv(\"C:\\\\Users\\\\user\\\\Desktop\\\\Data Science\\\\HRDataset_v14.csv\")"
   ]
  },
  {
   "cell_type": "code",
   "execution_count": 3,
   "id": "f0d17a13",
   "metadata": {},
   "outputs": [
    {
     "name": "stdout",
     "output_type": "stream",
     "text": [
      "Employee_Name                   0\n",
      "EmpID                           0\n",
      "MarriedID                       0\n",
      "MaritalStatusID                 0\n",
      "GenderID                        0\n",
      "EmpStatusID                     0\n",
      "DeptID                          0\n",
      "PerfScoreID                     0\n",
      "FromDiversityJobFairID          0\n",
      "Salary                          0\n",
      "Termd                           0\n",
      "PositionID                      0\n",
      "Position                        0\n",
      "State                           0\n",
      "Zip                             0\n",
      "DOB                             0\n",
      "Sex                             0\n",
      "MaritalDesc                     0\n",
      "CitizenDesc                     0\n",
      "HispanicLatino                  0\n",
      "RaceDesc                        0\n",
      "DateofHire                      0\n",
      "DateofTermination             207\n",
      "TermReason                      0\n",
      "EmploymentStatus                0\n",
      "Department                      0\n",
      "ManagerName                     0\n",
      "ManagerID                       8\n",
      "RecruitmentSource               0\n",
      "PerformanceScore                0\n",
      "EngagementSurvey                0\n",
      "EmpSatisfaction                 0\n",
      "SpecialProjectsCount            0\n",
      "LastPerformanceReview_Date      0\n",
      "DaysLateLast30                  0\n",
      "Absences                        0\n",
      "dtype: int64\n",
      "Employee_Name                  object\n",
      "EmpID                           int64\n",
      "MarriedID                       int64\n",
      "MaritalStatusID                 int64\n",
      "GenderID                        int64\n",
      "EmpStatusID                     int64\n",
      "DeptID                          int64\n",
      "PerfScoreID                     int64\n",
      "FromDiversityJobFairID          int64\n",
      "Salary                          int64\n",
      "Termd                           int64\n",
      "PositionID                      int64\n",
      "Position                       object\n",
      "State                          object\n",
      "Zip                             int64\n",
      "DOB                            object\n",
      "Sex                            object\n",
      "MaritalDesc                    object\n",
      "CitizenDesc                    object\n",
      "HispanicLatino                 object\n",
      "RaceDesc                       object\n",
      "DateofHire                     object\n",
      "DateofTermination              object\n",
      "TermReason                     object\n",
      "EmploymentStatus               object\n",
      "Department                     object\n",
      "ManagerName                    object\n",
      "ManagerID                     float64\n",
      "RecruitmentSource              object\n",
      "PerformanceScore               object\n",
      "EngagementSurvey              float64\n",
      "EmpSatisfaction                 int64\n",
      "SpecialProjectsCount            int64\n",
      "LastPerformanceReview_Date     object\n",
      "DaysLateLast30                  int64\n",
      "Absences                        int64\n",
      "dtype: object\n"
     ]
    }
   ],
   "source": [
    "# Step 2: Data Quality Issues\n",
    "# Explore the dataset and identify data quality issues\n",
    "print(df.isnull().sum())  # Check for missing values\n",
    "print(df.dtypes)  # Examine data types"
   ]
  },
  {
   "cell_type": "code",
   "execution_count": 5,
   "id": "7f795063",
   "metadata": {},
   "outputs": [],
   "source": [
    "# Step 3: Cleaning Strategy\n",
    "# Based on the identified issues, develop a cleaning strategy\n",
    "# Let's assume there are missing values and inconsistent formats\n",
    "\n",
    "# Step 4: Data Cleaning\n",
    "# Handle missing values using imputation\n",
    "imputer = SimpleImputer(strategy=\"mean\")\n",
    "df[\"ManagerID\"] = imputer.fit_transform(df[[\"ManagerID\"]])"
   ]
  },
  {
   "cell_type": "code",
   "execution_count": null,
   "id": "fd10952f",
   "metadata": {},
   "outputs": [],
   "source": [
    "# Step 5: Data Transformation\n",
    "# Feature engineering\n",
    "df[\"years_of_service\"] = pd.to_datetime(\"today\") - df[\"DateofHire\"]\n",
    "df[\"years_of_service\"] = df[\"years_of_service\"].dt.days // 365"
   ]
  },
  {
   "cell_type": "code",
   "execution_count": 11,
   "id": "b5e24eb5",
   "metadata": {},
   "outputs": [],
   "source": [
    "# Aggregation\n",
    "department_summary = df.groupby(\"Department\").agg({\"Salary\": \"mean\"})\n"
   ]
  },
  {
   "cell_type": "code",
   "execution_count": 13,
   "id": "529f4f7f",
   "metadata": {},
   "outputs": [
    {
     "name": "stdout",
     "output_type": "stream",
     "text": [
      "              Employee_Name  EmpID  MarriedID  MaritalStatusID  GenderID  \\\n",
      "0       Adinolfi, Wilson  K  10026          0                0         1   \n",
      "1  Ait Sidi, Karthikeyan     10084          1                1         1   \n",
      "2         Akinkuolie, Sarah  10196          1                1         0   \n",
      "3              Alagbe,Trina  10088          1                1         0   \n",
      "4          Anderson, Carol   10069          0                2         0   \n",
      "\n",
      "   EmpStatusID  DeptID  PerfScoreID  FromDiversityJobFairID  Salary  ...  \\\n",
      "0            1       5            4                       0   62506  ...   \n",
      "1            5       3            3                       0  104437  ...   \n",
      "2            5       5            3                       0   64955  ...   \n",
      "3            1       5            3                       0   64991  ...   \n",
      "4            5       5            3                       0   50825  ...   \n",
      "\n",
      "      ManagerName  ManagerID RecruitmentSource PerformanceScore  \\\n",
      "0  Michael Albert       22.0          LinkedIn          Exceeds   \n",
      "1      Simon Roup        4.0            Indeed      Fully Meets   \n",
      "2  Kissy Sullivan       20.0          LinkedIn      Fully Meets   \n",
      "3    Elijiah Gray       16.0            Indeed      Fully Meets   \n",
      "4  Webster Butler       39.0     Google Search      Fully Meets   \n",
      "\n",
      "   EngagementSurvey EmpSatisfaction SpecialProjectsCount  \\\n",
      "0              4.60               5                    0   \n",
      "1              4.96               3                    6   \n",
      "2              3.02               3                    0   \n",
      "3              4.84               5                    0   \n",
      "4              5.00               4                    0   \n",
      "\n",
      "  LastPerformanceReview_Date DaysLateLast30 Absences  \n",
      "0                  1/17/2019              0        1  \n",
      "1                  2/24/2016              0       17  \n",
      "2                  5/15/2012              0        3  \n",
      "3                   1/3/2019              0       15  \n",
      "4                   2/1/2016              0        2  \n",
      "\n",
      "[5 rows x 36 columns]\n",
      "                             Salary\n",
      "Department                         \n",
      "Admin Offices          71791.888889\n",
      "Executive Office      250000.000000\n",
      "IT/IS                  97064.640000\n",
      "Production             59953.545455\n",
      "Sales                  69061.258065\n",
      "Software Engineering   94989.454545\n"
     ]
    }
   ],
   "source": [
    "# Step 6: Validation\n",
    "# Validate the cleaned and transformed dataset\n",
    "print(df.head())  # Check the cleaned dataset\n",
    "print(department_summary)  # Examine the aggregated data"
   ]
  },
  {
   "cell_type": "code",
   "execution_count": 14,
   "id": "518779a4",
   "metadata": {},
   "outputs": [],
   "source": [
    "# Step 7: Documentation\n",
    "# Document the steps taken during cleaning and transformation\n",
    "\n",
    "# Step 8: Dataset Presentation\n",
    "# Save the cleaned and transformed dataset\n",
    "df.to_csv(\"cleaned_employee_data.csv\", index=False)"
   ]
  },
  {
   "cell_type": "code",
   "execution_count": null,
   "id": "10a64817",
   "metadata": {},
   "outputs": [],
   "source": []
  }
 ],
 "metadata": {
  "kernelspec": {
   "display_name": "Python 3 (ipykernel)",
   "language": "python",
   "name": "python3"
  },
  "language_info": {
   "codemirror_mode": {
    "name": "ipython",
    "version": 3
   },
   "file_extension": ".py",
   "mimetype": "text/x-python",
   "name": "python",
   "nbconvert_exporter": "python",
   "pygments_lexer": "ipython3",
   "version": "3.9.12"
  }
 },
 "nbformat": 4,
 "nbformat_minor": 5
}
